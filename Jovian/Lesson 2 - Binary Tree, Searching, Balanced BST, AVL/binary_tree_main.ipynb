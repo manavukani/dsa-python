{
 "cells": [
  {
   "cell_type": "code",
   "execution_count": 1,
   "metadata": {},
   "outputs": [],
   "source": [
    "class User:\n",
    "    def __init__(self, username, name, email):\n",
    "        self.username = username\n",
    "        self.name = name\n",
    "        self.email = email\n",
    "\n",
    "    def __repr__(self):\n",
    "        return \"User(username='{}', name='{}', email='{}')\".format(\n",
    "            self.username, self.name, self.email\n",
    "        )\n",
    "\n",
    "    def __str__(self):\n",
    "        return self.__repr__()"
   ]
  },
  {
   "cell_type": "code",
   "execution_count": 2,
   "metadata": {},
   "outputs": [
    {
     "name": "stdout",
     "output_type": "stream",
     "text": [
      "User(username='jane', name='Jane Doe', email='jane@doe.com')\n"
     ]
    }
   ],
   "source": [
    "user1 = User(\"jane\", \"Jane Doe\", \"jane@doe.com\")\n",
    "\n",
    "print(user1.__str__())"
   ]
  },
  {
   "cell_type": "code",
   "execution_count": 3,
   "metadata": {},
   "outputs": [],
   "source": [
    "aakash = User('aakash', 'Aakash Rai', 'aakash@example.com')\n",
    "biraj = User('biraj', 'Biraj Das', 'biraj@example.com')\n",
    "hemanth = User('hemanth', 'Hemanth Jain', 'hemanth@example.com')\n",
    "jadhesh = User('jadhesh', 'Jadhesh Verma', 'jadhesh@example.com')\n",
    "siddhant = User('siddhant', 'Siddhant Sinha', 'siddhant@example.com')\n",
    "sonaksh = User('sonaksh', 'Sonaksh Kumar', 'sonaksh@example.com')\n",
    "vishal = User('vishal', 'Vishal Goel', 'vishal@example.com')"
   ]
  },
  {
   "cell_type": "code",
   "execution_count": 4,
   "metadata": {},
   "outputs": [],
   "source": [
    "users = [aakash, biraj, hemanth, jadhesh, siddhant, sonaksh, vishal]"
   ]
  },
  {
   "cell_type": "code",
   "execution_count": 5,
   "metadata": {},
   "outputs": [
    {
     "data": {
      "text/plain": [
       "('biraj', 'biraj@example.com', 'Biraj Das')"
      ]
     },
     "execution_count": 5,
     "metadata": {},
     "output_type": "execute_result"
    }
   ],
   "source": [
    "biraj.username, biraj.email, biraj.name"
   ]
  },
  {
   "cell_type": "code",
   "execution_count": 6,
   "metadata": {},
   "outputs": [
    {
     "data": {
      "text/plain": [
       "[User(username='aakash', name='Aakash Rai', email='aakash@example.com'),\n",
       " User(username='biraj', name='Biraj Das', email='biraj@example.com'),\n",
       " User(username='hemanth', name='Hemanth Jain', email='hemanth@example.com'),\n",
       " User(username='jadhesh', name='Jadhesh Verma', email='jadhesh@example.com'),\n",
       " User(username='siddhant', name='Siddhant Sinha', email='siddhant@example.com'),\n",
       " User(username='sonaksh', name='Sonaksh Kumar', email='sonaksh@example.com'),\n",
       " User(username='vishal', name='Vishal Goel', email='vishal@example.com')]"
      ]
     },
     "execution_count": 6,
     "metadata": {},
     "output_type": "execute_result"
    }
   ],
   "source": [
    "users"
   ]
  },
  {
   "cell_type": "code",
   "execution_count": 7,
   "metadata": {},
   "outputs": [],
   "source": [
    "class UserDatabase:\n",
    "    def __init__(self):\n",
    "        self.users = []\n",
    "    \n",
    "    def insert(self, user):\n",
    "        i = 0\n",
    "        while i < len(self.users):\n",
    "            # Find the first username greater than the new user's username\n",
    "            if self.users[i].username > user.username:\n",
    "                break\n",
    "            i += 1\n",
    "        self.users.insert(i, user)\n",
    "    \n",
    "    def find(self, username):\n",
    "        for user in self.users:\n",
    "            if user.username == username:\n",
    "                return user\n",
    "    \n",
    "    def update(self, user):\n",
    "        target = self.find(user.username)\n",
    "        target.name, target.email = user.name, user.email\n",
    "        \n",
    "    def list_all(self):\n",
    "        return self.users"
   ]
  },
  {
   "cell_type": "code",
   "execution_count": 8,
   "metadata": {},
   "outputs": [],
   "source": [
    "database = UserDatabase()"
   ]
  },
  {
   "cell_type": "code",
   "execution_count": 9,
   "metadata": {},
   "outputs": [],
   "source": [
    "database.insert(hemanth)\n",
    "database.insert(aakash)\n",
    "database.insert(siddhant)"
   ]
  },
  {
   "cell_type": "code",
   "execution_count": 10,
   "metadata": {},
   "outputs": [
    {
     "data": {
      "text/plain": [
       "User(username='siddhant', name='Siddhant Sinha', email='siddhant@example.com')"
      ]
     },
     "execution_count": 10,
     "metadata": {},
     "output_type": "execute_result"
    }
   ],
   "source": [
    "user = database.find('siddhant')\n",
    "user"
   ]
  },
  {
   "cell_type": "code",
   "execution_count": 11,
   "metadata": {},
   "outputs": [],
   "source": [
    "database.update(User(username='siddhant', name='Siddhant U', email='siddhantu@example.com'))"
   ]
  },
  {
   "cell_type": "code",
   "execution_count": 12,
   "metadata": {},
   "outputs": [
    {
     "data": {
      "text/plain": [
       "[User(username='aakash', name='Aakash Rai', email='aakash@example.com'),\n",
       " User(username='hemanth', name='Hemanth Jain', email='hemanth@example.com'),\n",
       " User(username='siddhant', name='Siddhant U', email='siddhantu@example.com')]"
      ]
     },
     "execution_count": 12,
     "metadata": {},
     "output_type": "execute_result"
    }
   ],
   "source": [
    "database.list_all()"
   ]
  },
  {
   "cell_type": "code",
   "execution_count": 13,
   "metadata": {},
   "outputs": [],
   "source": [
    "database.insert(biraj)"
   ]
  },
  {
   "cell_type": "code",
   "execution_count": 14,
   "metadata": {},
   "outputs": [
    {
     "data": {
      "text/plain": [
       "[User(username='aakash', name='Aakash Rai', email='aakash@example.com'),\n",
       " User(username='biraj', name='Biraj Das', email='biraj@example.com'),\n",
       " User(username='hemanth', name='Hemanth Jain', email='hemanth@example.com'),\n",
       " User(username='siddhant', name='Siddhant U', email='siddhantu@example.com')]"
      ]
     },
     "execution_count": 14,
     "metadata": {},
     "output_type": "execute_result"
    }
   ],
   "source": [
    "database.list_all()"
   ]
  },
  {
   "cell_type": "markdown",
   "metadata": {},
   "source": [
    "## Binary Tree Basics"
   ]
  },
  {
   "cell_type": "code",
   "execution_count": 15,
   "metadata": {},
   "outputs": [],
   "source": [
    "class TreeNode:\n",
    "    def __init__(self, key):\n",
    "        self.key = key\n",
    "        self.left = None\n",
    "        self.right = None"
   ]
  },
  {
   "cell_type": "code",
   "execution_count": 16,
   "metadata": {},
   "outputs": [],
   "source": [
    "node0 = TreeNode(3)\n",
    "node1 = TreeNode(4)\n",
    "node2 = TreeNode(5)"
   ]
  },
  {
   "cell_type": "code",
   "execution_count": 17,
   "metadata": {},
   "outputs": [],
   "source": [
    "node0.left = node1\n",
    "node0.right = node2"
   ]
  },
  {
   "cell_type": "code",
   "execution_count": 18,
   "metadata": {},
   "outputs": [],
   "source": [
    "# tree refers root node\n",
    "tree = node0"
   ]
  },
  {
   "cell_type": "code",
   "execution_count": 19,
   "metadata": {},
   "outputs": [
    {
     "data": {
      "text/plain": [
       "3"
      ]
     },
     "execution_count": 19,
     "metadata": {},
     "output_type": "execute_result"
    }
   ],
   "source": [
    "tree.key"
   ]
  },
  {
   "cell_type": "code",
   "execution_count": 20,
   "metadata": {},
   "outputs": [
    {
     "data": {
      "text/plain": [
       "(4, 5)"
      ]
     },
     "execution_count": 20,
     "metadata": {},
     "output_type": "execute_result"
    }
   ],
   "source": [
    "tree.left.key, tree.right.key"
   ]
  },
  {
   "cell_type": "code",
   "execution_count": null,
   "metadata": {},
   "outputs": [],
   "source": []
  },
  {
   "cell_type": "markdown",
   "metadata": {},
   "source": [
    "## Using Tuples to Represent the Binary Tree"
   ]
  },
  {
   "cell_type": "code",
   "execution_count": 21,
   "metadata": {},
   "outputs": [],
   "source": [
    "tree_tuple = ((1,3,None), 2, ((None, 3, 4), 5, (6, 7, 8)))"
   ]
  },
  {
   "cell_type": "code",
   "execution_count": 22,
   "metadata": {},
   "outputs": [],
   "source": [
    "# helper function - convert tuple with the structure (left_subtree, key, right_subtree) into tree\n",
    "\n",
    "def parse_tuple(data):\n",
    "    # print(data)\n",
    "    if isinstance(data, tuple) and len(data) == 3:\n",
    "        node = TreeNode(data[1])\n",
    "        node.left = parse_tuple(data[0])\n",
    "        node.right = parse_tuple(data[2])\n",
    "    elif data is None:\n",
    "        node = None\n",
    "    else:\n",
    "        node = TreeNode(data)\n",
    "    return node"
   ]
  },
  {
   "cell_type": "code",
   "execution_count": 23,
   "metadata": {},
   "outputs": [],
   "source": [
    "tree2 = parse_tuple(((1,3,None), 2, ((None, 3, 4), 5, (6, 7, 8))))"
   ]
  },
  {
   "cell_type": "code",
   "execution_count": 24,
   "metadata": {},
   "outputs": [
    {
     "data": {
      "text/plain": [
       "<__main__.TreeNode at 0x1f0f029ff80>"
      ]
     },
     "execution_count": 24,
     "metadata": {},
     "output_type": "execute_result"
    }
   ],
   "source": [
    "tree2"
   ]
  },
  {
   "cell_type": "code",
   "execution_count": 25,
   "metadata": {},
   "outputs": [
    {
     "data": {
      "text/plain": [
       "2"
      ]
     },
     "execution_count": 25,
     "metadata": {},
     "output_type": "execute_result"
    }
   ],
   "source": [
    "tree2.key"
   ]
  },
  {
   "cell_type": "code",
   "execution_count": 26,
   "metadata": {},
   "outputs": [
    {
     "data": {
      "text/plain": [
       "(3, 5)"
      ]
     },
     "execution_count": 26,
     "metadata": {},
     "output_type": "execute_result"
    }
   ],
   "source": [
    "tree2.left.key, tree2.right.key"
   ]
  },
  {
   "cell_type": "code",
   "execution_count": 27,
   "metadata": {},
   "outputs": [
    {
     "data": {
      "text/plain": [
       "(1, None, 3, 7)"
      ]
     },
     "execution_count": 27,
     "metadata": {},
     "output_type": "execute_result"
    }
   ],
   "source": [
    "tree2.left.left.key, tree2.left.right, tree2.right.left.key, tree2.right.right.key"
   ]
  },
  {
   "cell_type": "code",
   "execution_count": 28,
   "metadata": {},
   "outputs": [
    {
     "data": {
      "text/plain": [
       "(4, 6, 8)"
      ]
     },
     "execution_count": 28,
     "metadata": {},
     "output_type": "execute_result"
    }
   ],
   "source": [
    "tree2.right.left.right.key, tree2.right.right.left.key, tree2.right.right.right.key"
   ]
  },
  {
   "cell_type": "code",
   "execution_count": 29,
   "metadata": {},
   "outputs": [
    {
     "data": {
      "text/plain": [
       "((1, 3, None), 2, ((None, 3, 4), 5, (6, 7, 8)))"
      ]
     },
     "execution_count": 29,
     "metadata": {},
     "output_type": "execute_result"
    }
   ],
   "source": [
    "def tree_to_tuple(root):\n",
    "    if root is None:\n",
    "        return None\n",
    "    if root.left is None and root.right is None:\n",
    "        return root.key\n",
    "    return (tree_to_tuple(root.left), root.key, tree_to_tuple(root.right))\n",
    "\n",
    "tree_to_tuple(tree2)"
   ]
  },
  {
   "cell_type": "code",
   "execution_count": 30,
   "metadata": {},
   "outputs": [
    {
     "name": "stdout",
     "output_type": "stream",
     "text": [
      "   8\n",
      "  7\n",
      "   6\n",
      " 5\n",
      "   4\n",
      "  3\n",
      "   ∅\n",
      "2\n",
      "  ∅\n",
      " 3\n",
      "  1\n"
     ]
    }
   ],
   "source": [
    "def display_keys(node, space='\\t', level=0):\n",
    "    # print(node.key if node else None, level)\n",
    "    \n",
    "    # If the node is empty\n",
    "    if node is None:\n",
    "        print(space*level + '∅')\n",
    "        return   \n",
    "    \n",
    "    # If the node is a leaf \n",
    "    if node.left is None and node.right is None:\n",
    "        print(space*level + str(node.key))\n",
    "        return\n",
    "    \n",
    "    # If the node has children\n",
    "    display_keys(node.right, space, level+1)\n",
    "    print(space*level + str(node.key))\n",
    "    display_keys(node.left,space, level+1) \n",
    "    \n",
    "display_keys(tree2, ' ')   "
   ]
  },
  {
   "cell_type": "markdown",
   "metadata": {},
   "source": [
    "### Traversing Binary Tree\n",
    "\n",
    "1. Write a function to perform the inorder traversal of a binary tree.\n",
    "\n",
    "1. Write a function to perform the preorder traversal of a binary tree.\n",
    "\n",
    "1. Write a function to perform the postorder traversal of a binary tree."
   ]
  },
  {
   "cell_type": "code",
   "execution_count": 31,
   "metadata": {},
   "outputs": [],
   "source": [
    "# inorder - left, root, right\n",
    "def traverse_in_order(node):\n",
    "    if node is None:\n",
    "        return []\n",
    "    return traverse_in_order(node.left) + [node.key] + traverse_in_order(node.right)"
   ]
  },
  {
   "cell_type": "code",
   "execution_count": 32,
   "metadata": {},
   "outputs": [
    {
     "name": "stdout",
     "output_type": "stream",
     "text": [
      "      8\n",
      "    7\n",
      "      6\n",
      "  5\n",
      "      4\n",
      "    3\n",
      "      ∅\n",
      "2\n",
      "    ∅\n",
      "  3\n",
      "    1\n"
     ]
    }
   ],
   "source": [
    "tree = parse_tuple(((1,3,None), 2, ((None, 3, 4), 5, (6, 7, 8))))\n",
    "display_keys(tree, '  ')"
   ]
  },
  {
   "cell_type": "code",
   "execution_count": 33,
   "metadata": {},
   "outputs": [
    {
     "data": {
      "text/plain": [
       "[1, 3, 2, 3, 4, 5, 6, 7, 8]"
      ]
     },
     "execution_count": 33,
     "metadata": {},
     "output_type": "execute_result"
    }
   ],
   "source": [
    "traverse_in_order(tree)"
   ]
  },
  {
   "cell_type": "code",
   "execution_count": 34,
   "metadata": {},
   "outputs": [
    {
     "data": {
      "text/plain": [
       "[2, 3, 1, 5, 3, 4, 7, 6, 8]"
      ]
     },
     "execution_count": 34,
     "metadata": {},
     "output_type": "execute_result"
    }
   ],
   "source": [
    "# postorder - root, left, right\n",
    "def traverse_pre_order(node):\n",
    "    if node is None:\n",
    "        return []\n",
    "    return [node.key] + traverse_pre_order(node.left) + traverse_pre_order(node.right)\n",
    "\n",
    "traverse_pre_order(tree)"
   ]
  },
  {
   "cell_type": "code",
   "execution_count": 35,
   "metadata": {},
   "outputs": [
    {
     "data": {
      "text/plain": [
       "[1, 3, 4, 3, 6, 8, 7, 5, 2]"
      ]
     },
     "execution_count": 35,
     "metadata": {},
     "output_type": "execute_result"
    }
   ],
   "source": [
    "# postorder - left, right, root\n",
    "def traverse_post_order(node):\n",
    "    if node is None:\n",
    "        return []\n",
    "    return traverse_post_order(node.left) + traverse_post_order(node.right) + [node.key]\n",
    "\n",
    "traverse_post_order(tree)"
   ]
  },
  {
   "cell_type": "markdown",
   "metadata": {},
   "source": [
    "## Height and Size\n",
    "\n",
    "1. Write a function to calculate the height/depth of a binary tree\n",
    "\n",
    "1. Write a function to count the number of nodes in a binary tree"
   ]
  },
  {
   "cell_type": "code",
   "execution_count": 39,
   "metadata": {},
   "outputs": [
    {
     "data": {
      "text/plain": [
       "4"
      ]
     },
     "execution_count": 39,
     "metadata": {},
     "output_type": "execute_result"
    }
   ],
   "source": [
    "def tree_height(node):\n",
    "    if node is None:\n",
    "        return 0\n",
    "    return 1 + max(tree_height(node.left), tree_height(node.right))\n",
    "\n",
    "tree_height(tree)"
   ]
  },
  {
   "cell_type": "code",
   "execution_count": 40,
   "metadata": {},
   "outputs": [
    {
     "data": {
      "text/plain": [
       "9"
      ]
     },
     "execution_count": 40,
     "metadata": {},
     "output_type": "execute_result"
    }
   ],
   "source": [
    "def tree_size(node):\n",
    "    if node is None:\n",
    "        return 0\n",
    "    return 1 + tree_size(node.left) + tree_size(node.right)\n",
    "\n",
    "tree_size(tree)"
   ]
  },
  {
   "cell_type": "markdown",
   "metadata": {},
   "source": [
    "## COMPLETE CODE"
   ]
  },
  {
   "cell_type": "code",
   "execution_count": 23,
   "metadata": {},
   "outputs": [],
   "source": [
    "class TreeNode():\n",
    "    def __init__(self, key):\n",
    "        self.key, self.left, self.right = key, None, None\n",
    "    \n",
    "    def height(self):\n",
    "        if self is None:\n",
    "            return 0\n",
    "        return 1 + max(TreeNode.height(self.left), TreeNode.height(self.right))\n",
    "    \n",
    "    def size(self):\n",
    "        if self is None:\n",
    "            return 0\n",
    "        return 1 + TreeNode.size(self.left) + TreeNode.size(self.right)\n",
    "\n",
    "    def traverse_in_order(self):\n",
    "        if self is None: \n",
    "            return []\n",
    "        return (TreeNode.traverse_in_order(self.left) + \n",
    "                [self.key] + \n",
    "                TreeNode.traverse_in_order(self.right))\n",
    "    \n",
    "    def display_keys(self, space='\\t', level=0):\n",
    "        # If the node is empty\n",
    "        if self is None:\n",
    "            print(space * level + '∅')\n",
    "            return\n",
    "        \n",
    "        # Process the right subtree first\n",
    "        if self.right is not None:\n",
    "            self.right.display_keys(space, level + 1)\n",
    "        else:\n",
    "            print(space * (level + 1) + '∅')\n",
    "        \n",
    "        # Process the current node\n",
    "        print(space * level + str(self.key))\n",
    "        \n",
    "        # Process the left subtree\n",
    "        if self.left is not None:\n",
    "            self.left.display_keys(space, level + 1)\n",
    "        else:\n",
    "            print(space * (level + 1) + '∅')   \n",
    "    \n",
    "    def to_tuple(self):\n",
    "        if self is None:\n",
    "            return None\n",
    "        if self.left is None and self.right is None:\n",
    "            return self.key\n",
    "        return TreeNode.to_tuple(self.left),  self.key, TreeNode.to_tuple(self.right)\n",
    "    \n",
    "    def __str__(self):\n",
    "        return \"BinaryTree <{}>\".format(self.to_tuple())\n",
    "    \n",
    "    def __repr__(self):\n",
    "        return \"BinaryTree <{}>\".format(self.to_tuple())\n",
    "    \n",
    "    @staticmethod    \n",
    "    def parse_tuple(data):\n",
    "        if data is None:\n",
    "            node = None\n",
    "        elif isinstance(data, tuple) and len(data) == 3:\n",
    "            node = TreeNode(data[1])\n",
    "            node.left = TreeNode.parse_tuple(data[0])\n",
    "            node.right = TreeNode.parse_tuple(data[2])\n",
    "        else:\n",
    "            node = TreeNode(data)\n",
    "        return node"
   ]
  },
  {
   "cell_type": "code",
   "execution_count": 24,
   "metadata": {},
   "outputs": [],
   "source": [
    "tree_tuple = ((1, 3, None), 2, ((None, 3, 4), 5, (6, 7, 8)))"
   ]
  },
  {
   "cell_type": "code",
   "execution_count": 25,
   "metadata": {},
   "outputs": [
    {
     "data": {
      "text/plain": [
       "BinaryTree <((1, 3, None), 2, ((None, 3, 4), 5, (6, 7, 8)))>"
      ]
     },
     "execution_count": 25,
     "metadata": {},
     "output_type": "execute_result"
    }
   ],
   "source": [
    "tree = TreeNode.parse_tuple(tree_tuple)\n",
    "tree"
   ]
  },
  {
   "cell_type": "code",
   "execution_count": 26,
   "metadata": {},
   "outputs": [
    {
     "data": {
      "text/plain": [
       "(4, 9)"
      ]
     },
     "execution_count": 26,
     "metadata": {},
     "output_type": "execute_result"
    }
   ],
   "source": [
    "tree.height(), tree.size()"
   ]
  },
  {
   "cell_type": "code",
   "execution_count": 27,
   "metadata": {},
   "outputs": [
    {
     "name": "stdout",
     "output_type": "stream",
     "text": [
      "\t\t\t\t∅\n",
      "\t\t\t8\n",
      "\t\t\t\t∅\n",
      "\t\t7\n",
      "\t\t\t\t∅\n",
      "\t\t\t6\n",
      "\t\t\t\t∅\n",
      "\t5\n",
      "\t\t\t\t∅\n",
      "\t\t\t4\n",
      "\t\t\t\t∅\n",
      "\t\t3\n",
      "\t\t\t∅\n",
      "2\n",
      "\t\t∅\n",
      "\t3\n",
      "\t\t\t∅\n",
      "\t\t1\n",
      "\t\t\t∅\n"
     ]
    }
   ],
   "source": [
    "tree.display_keys()"
   ]
  },
  {
   "cell_type": "code",
   "execution_count": null,
   "metadata": {},
   "outputs": [],
   "source": []
  },
  {
   "cell_type": "code",
   "execution_count": null,
   "metadata": {},
   "outputs": [],
   "source": []
  }
 ],
 "metadata": {
  "kernelspec": {
   "display_name": "Python 3",
   "language": "python",
   "name": "python3"
  },
  "language_info": {
   "codemirror_mode": {
    "name": "ipython",
    "version": 3
   },
   "file_extension": ".py",
   "mimetype": "text/x-python",
   "name": "python",
   "nbconvert_exporter": "python",
   "pygments_lexer": "ipython3",
   "version": "3.12.0"
  }
 },
 "nbformat": 4,
 "nbformat_minor": 2
}
