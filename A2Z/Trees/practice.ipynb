{
 "cells": [
  {
   "cell_type": "code",
   "execution_count": 1,
   "metadata": {},
   "outputs": [],
   "source": [
    "class TreeNode:\n",
    "    def __init__(self, val, left = None, right = None):\n",
    "        self.val = val\n",
    "        self.left = left\n",
    "        self.right = right"
   ]
  },
  {
   "cell_type": "code",
   "execution_count": 2,
   "metadata": {},
   "outputs": [
    {
     "name": "stdout",
     "output_type": "stream",
     "text": [
      "6\n"
     ]
    }
   ],
   "source": [
    "root = TreeNode(5)\n",
    "root.left = TreeNode(3)\n",
    "root.right = TreeNode(8)\n",
    "root.right.left = TreeNode(6)\n",
    "root.right.right = TreeNode(9)\n",
    "\n",
    "print(root.right.left.val)"
   ]
  },
  {
   "cell_type": "markdown",
   "metadata": {},
   "source": [
    "## Insert"
   ]
  },
  {
   "cell_type": "code",
   "execution_count": 3,
   "metadata": {},
   "outputs": [
    {
     "name": "stdout",
     "output_type": "stream",
     "text": [
      "25\n",
      "0\n"
     ]
    }
   ],
   "source": [
    "# class basic_ops:\n",
    "#     # can also remove root from i/p -> access by self.root\n",
    "#     def insert(self, root, val):\n",
    "#         if not root:\n",
    "#             root = TreeNode(val)\n",
    "#         else:\n",
    "#             self._utils_insert(root, val)\n",
    "\n",
    "#     def _utils_insert(self, node, val):\n",
    "#         if val < node.val:\n",
    "#             if node.left is None:\n",
    "#                 node.left = TreeNode(val)\n",
    "#             else:\n",
    "#                 self._utils_insert(node.left, val)\n",
    "#         else:\n",
    "#             if node.right is None:\n",
    "#                 node.right = TreeNode(val)\n",
    "#             else:\n",
    "#                 self._utils_insert(node.right, val)\n",
    "\n",
    "def insert(root, val):\n",
    "    if not root:\n",
    "        return TreeNode(val)\n",
    "    \n",
    "    # # prevent duplicate entries\n",
    "    # if root.val == val:\n",
    "    #     return root\n",
    "    \n",
    "    if val < root.val:\n",
    "        root.left = insert(root.left, val)\n",
    "    else:\n",
    "        root.right = insert(root.right, val)\n",
    "    \n",
    "    return root\n",
    "\n",
    "\n",
    "insert(root, 25)\n",
    "insert(root, 0)\n",
    "\n",
    "print(root.right.right.right.val)\n",
    "print(root.left.left.val)\n",
    "\n",
    "\n",
    "# Time Complexity: \n",
    "# The worst-case time complexity of insert operations is O(h) where h is the height of the Binary Search Tree. \n",
    "# In the worst case, we may have to travel from the root to the deepest leaf node. The height of a skewed tree may become n and the time complexity of insertion operation may become O(n). \n",
    "\n",
    "# Auxiliary Space: The auxiliary space complexity of insertion into a binary search tree is O(1)"
   ]
  },
  {
   "cell_type": "code",
   "execution_count": 4,
   "metadata": {},
   "outputs": [
    {
     "name": "stdout",
     "output_type": "stream",
     "text": [
      "6\n",
      "25\n",
      "0\n"
     ]
    }
   ],
   "source": [
    "def iterative_insert(root, val):\n",
    "    newNode = TreeNode(val)\n",
    "    if root is None:\n",
    "        root = newNode\n",
    "        return\n",
    "    \n",
    "    cur = root\n",
    "    while True:\n",
    "        if val < cur.val:\n",
    "            if cur.left is None:\n",
    "                cur.left = newNode\n",
    "                return\n",
    "            cur = cur.left\n",
    "        else:\n",
    "            if cur.right is None:\n",
    "                cur.right = newNode\n",
    "                break\n",
    "            cur = cur.right\n",
    "\n",
    "newroot = TreeNode(5)\n",
    "\n",
    "iterative_insert(newroot, 3)\n",
    "iterative_insert(newroot, 8)\n",
    "iterative_insert(newroot, 9)\n",
    "iterative_insert(newroot, 6)\n",
    "iterative_insert(newroot, 25)\n",
    "iterative_insert(newroot, 0)\n",
    "\n",
    "print(newroot.right.left.val)\n",
    "print(newroot.right.right.right.val)\n",
    "print(newroot.left.left.val)\n",
    "\n",
    "\n",
    "# The time complexity of inorder traversal is O(n), as each node is visited once. \n",
    "# The Auxiliary space is O(n), as we use a stack to store nodes for recursion."
   ]
  },
  {
   "cell_type": "markdown",
   "metadata": {},
   "source": [
    "This recursive approach elegantly handles all cases and maintains the BST property throughout the deletion process\n",
    "\n",
    "However, it does use stack space proportional to the height of the tree due to the recursion."
   ]
  },
  {
   "cell_type": "markdown",
   "metadata": {},
   "source": [
    "## Delete\n",
    "\n",
    "### Count Total Nodes, Successor"
   ]
  },
  {
   "cell_type": "code",
   "execution_count": 8,
   "metadata": {},
   "outputs": [],
   "source": [
    "def delete(node, val):\n",
    "    if node is None:\n",
    "        return None\n",
    "    \n",
    "    # small value left subtree\n",
    "    if val < node.val:\n",
    "        node.left = delete(node.left, val)\n",
    "    # big value right subtree\n",
    "    elif val > node.val:\n",
    "        node.right = delete(node.right, val)\n",
    "    \n",
    "    # reached node with matching val => delete\n",
    "    else:\n",
    "        # only right child\n",
    "        if node.left is None:\n",
    "            return node.right\n",
    "        \n",
    "        # only left child\n",
    "        elif node.right is None:\n",
    "            return node.left\n",
    "        \n",
    "        # c. When both children are present\n",
    "        \n",
    "        \"\"\"\n",
    "        - Find the minimum val in the right subtree (the inorder successor).\n",
    "        - Replace the current node's value with this minimum value.\n",
    "        - Recursively delete the minimum value from the right subtree.\n",
    "        \"\"\"\n",
    "        successor = find_min(node.right)\n",
    "        # current node's val = inorder successor val\n",
    "        node.val = successor.val\n",
    "        node.right = delete(node.right, successor.val)\n",
    "    \n",
    "    return node\n",
    "\n",
    "# left most child\n",
    "def find_min(node):\n",
    "        current = node\n",
    "        while current.left:\n",
    "            current = current.left\n",
    "        return current"
   ]
  },
  {
   "cell_type": "markdown",
   "metadata": {},
   "source": [
    "The trickiest part is case c, where we delete a node with two children. Here's why we do it this way:\n",
    "\n",
    "* We need to replace the node with a value that maintains the BST property.\n",
    "\n",
    "* Inorder successor (smallest value in the right subtree) is guaranteed to be larger than everything in the left subtree and smaller than everything else in the right subtree.\n",
    "\n",
    "* By moving this value up and deleting it from its original position, we maintain the tree structure with minimal disruption.\n",
    "\n"
   ]
  },
  {
   "cell_type": "code",
   "execution_count": 9,
   "metadata": {},
   "outputs": [],
   "source": [
    "# Count number of nodes in tree\n",
    "\n",
    "def count_nodes(root):\n",
    "    if root is None:\n",
    "        return 0\n",
    "    return 1 + count_nodes(root.left) + count_nodes(root.right)"
   ]
  },
  {
   "cell_type": "code",
   "execution_count": 46,
   "metadata": {},
   "outputs": [
    {
     "name": "stdout",
     "output_type": "stream",
     "text": [
      "3\n",
      "1 3 5 7 7 9 "
     ]
    }
   ],
   "source": [
    "delroot = TreeNode(5)\n",
    "iterative_insert(delroot, 7)\n",
    "iterative_insert(delroot, 3)\n",
    "iterative_insert(delroot, 7)\n",
    "iterative_insert(delroot, 1)\n",
    "iterative_insert(delroot, 9)\n",
    "\n",
    "print(delroot.left.val)\n",
    "\n",
    "printInorder(delroot)"
   ]
  },
  {
   "cell_type": "code",
   "execution_count": 47,
   "metadata": {},
   "outputs": [
    {
     "name": "stdout",
     "output_type": "stream",
     "text": [
      "5\n",
      "3\n",
      "1\n",
      "7\n",
      "7\n",
      "9\n"
     ]
    }
   ],
   "source": [
    "print(delroot.val)\n",
    "print(delroot.left.val)\n",
    "print(delroot.left.left.val)\n",
    "\n",
    "print(delroot.right.val)\n",
    "# print(delroot.right.left.val)\n",
    "print(delroot.right.right.val)\n",
    "print(delroot.right.right.right.val)\n",
    "# print(delroot.right.right.left.val)"
   ]
  },
  {
   "cell_type": "code",
   "execution_count": 48,
   "metadata": {},
   "outputs": [
    {
     "name": "stdout",
     "output_type": "stream",
     "text": [
      "Count:  6\n",
      "Deleting...\n",
      "Count:  5\n"
     ]
    }
   ],
   "source": [
    "print(\"Count: \", count_nodes(delroot))\n",
    "print(\"Deleting...\")\n",
    "delete(delroot, 3)\n",
    "print(\"Count: \", count_nodes(delroot))\n",
    "\n",
    "\n",
    "# Time Complexity: O(h), where h is the height of the BST. \n",
    "# Auxiliary Space: O(h)."
   ]
  },
  {
   "cell_type": "markdown",
   "metadata": {},
   "source": [
    "## Search"
   ]
  },
  {
   "cell_type": "code",
   "execution_count": 14,
   "metadata": {},
   "outputs": [
    {
     "name": "stdout",
     "output_type": "stream",
     "text": [
      "True\n",
      "False\n"
     ]
    }
   ],
   "source": [
    "def search(node, target):\n",
    "    # If node is None, it returns False (value not found).\n",
    "    # If node.value == value, it returns True (value found).\n",
    "    if node is None or node.val == target:\n",
    "        return node is not None\n",
    "    \n",
    "    if target > node.val:\n",
    "        return search(node.right, target)\n",
    "    else:\n",
    "        return search(node.left, target)\n",
    "\n",
    "print(search(delroot,7))\n",
    "print(search(delroot,3))\n",
    "\n",
    "# Time complexity: O(h), where h is the height of the BST.\n",
    "# Auxiliary Space: O(h) This is because of the space needed to store the recursion stack."
   ]
  },
  {
   "cell_type": "code",
   "execution_count": 16,
   "metadata": {},
   "outputs": [
    {
     "name": "stdout",
     "output_type": "stream",
     "text": [
      "True\n",
      "False\n"
     ]
    }
   ],
   "source": [
    "def search_iterative(root, val):\n",
    "    node = root\n",
    "    while node is not None:\n",
    "        if node.val == val:\n",
    "            return True\n",
    "        node = node.left if val < node.val else node.right\n",
    "    return False\n",
    "\n",
    "\n",
    "print(search_iterative(delroot,7))\n",
    "print(search_iterative(delroot,3))\n",
    "\n",
    "\n",
    "# Time Complexity: O(h), where h is the height of the BST.\n",
    "# Auxiliary Space: O(1)"
   ]
  },
  {
   "cell_type": "markdown",
   "metadata": {},
   "source": [
    "## Height or Max Depth"
   ]
  },
  {
   "cell_type": "code",
   "execution_count": null,
   "metadata": {},
   "outputs": [],
   "source": [
    "# recursive DFS\n",
    "def height(root):\n",
    "    if root is None:\n",
    "        return 0\n",
    "    \n",
    "    return 1 + max(height(root.left), height(root.right))\n"
   ]
  },
  {
   "cell_type": "code",
   "execution_count": null,
   "metadata": {},
   "outputs": [],
   "source": [
    "# ITERATIVE DFS\n",
    "def maxDepth(root):\n",
    "    stack = [[root, 1]]\n",
    "    res = 0\n",
    "    while stack:\n",
    "        node, depth = stack.pop()\n",
    "        if node:\n",
    "            res = max(res, depth)\n",
    "            stack.append([node.left, depth + 1])\n",
    "            stack.append([node.right, depth + 1])\n",
    "    return res"
   ]
  },
  {
   "cell_type": "code",
   "execution_count": 17,
   "metadata": {},
   "outputs": [],
   "source": [
    "# BFS\n",
    "from queue import deque\n",
    "def maxDepth(root):\n",
    "    q = deque()\n",
    "    if root:\n",
    "        q.append(root)\n",
    "    level = 0\n",
    "    while q:\n",
    "        for i in range(len(q)):\n",
    "            node = q.popleft()\n",
    "            if node.left:\n",
    "                q.append(node.left)\n",
    "            if node.right:\n",
    "                q.append(node.right)\n",
    "        level += 1\n",
    "    return level"
   ]
  },
  {
   "cell_type": "markdown",
   "metadata": {},
   "source": [
    "## Is BST?"
   ]
  },
  {
   "cell_type": "code",
   "execution_count": 55,
   "metadata": {},
   "outputs": [
    {
     "name": "stdout",
     "output_type": "stream",
     "text": [
      "True\n"
     ]
    }
   ],
   "source": [
    "def is_bst(root):\n",
    "    return _is_bst_recursive(root, float('-inf'), float('inf'))\n",
    "\n",
    "def _is_bst_recursive(node, min_value, max_value):\n",
    "    if node is None:\n",
    "        return True\n",
    "    if node.val <= min_value or node.val >= max_value:\n",
    "        return False\n",
    "    return (_is_bst_recursive(node.left, min_value, node.val) and\n",
    "            _is_bst_recursive(node.right, node.val, max_value))\n",
    "\n",
    "print(is_bst(newroot))"
   ]
  },
  {
   "cell_type": "markdown",
   "metadata": {},
   "source": [
    "## Min and Max Value"
   ]
  },
  {
   "cell_type": "code",
   "execution_count": 21,
   "metadata": {},
   "outputs": [
    {
     "name": "stdout",
     "output_type": "stream",
     "text": [
      "25\n",
      "0\n",
      "9\n",
      "1\n"
     ]
    }
   ],
   "source": [
    "def get_max(root):\n",
    "    if not root:\n",
    "        return None\n",
    "    current = root\n",
    "    while current.right:\n",
    "        current = current.right\n",
    "    return current.val\n",
    "    \n",
    "def get_min(root):\n",
    "    if not root:\n",
    "        return None\n",
    "    current = root\n",
    "    while current.left:\n",
    "        current = current.left\n",
    "    return current.val\n",
    "\n",
    "print(get_max(newroot))\n",
    "print(get_min(newroot))\n",
    "print(get_max(delroot))\n",
    "print(get_min(delroot))"
   ]
  },
  {
   "cell_type": "markdown",
   "metadata": {},
   "source": [
    "## Traversal"
   ]
  },
  {
   "cell_type": "code",
   "execution_count": 1,
   "metadata": {},
   "outputs": [
    {
     "ename": "NameError",
     "evalue": "name 'TreeNode' is not defined",
     "output_type": "error",
     "traceback": [
      "\u001b[1;31m---------------------------------------------------------------------------\u001b[0m",
      "\u001b[1;31mNameError\u001b[0m                                 Traceback (most recent call last)",
      "Cell \u001b[1;32mIn[1], line 1\u001b[0m\n\u001b[1;32m----> 1\u001b[0m forTraversal \u001b[38;5;241m=\u001b[39m \u001b[43mTreeNode\u001b[49m(\u001b[38;5;241m100\u001b[39m)\n\u001b[0;32m      2\u001b[0m forTraversal\u001b[38;5;241m.\u001b[39mleft \u001b[38;5;241m=\u001b[39m TreeNode(\u001b[38;5;241m20\u001b[39m)\n\u001b[0;32m      3\u001b[0m forTraversal\u001b[38;5;241m.\u001b[39mright \u001b[38;5;241m=\u001b[39m TreeNode(\u001b[38;5;241m200\u001b[39m)\n",
      "\u001b[1;31mNameError\u001b[0m: name 'TreeNode' is not defined"
     ]
    }
   ],
   "source": [
    "forTraversal = TreeNode(100)\n",
    "forTraversal.left = TreeNode(20)\n",
    "forTraversal.right = TreeNode(200)\n",
    "forTraversal.left.left = TreeNode(10)\n",
    "forTraversal.left.right = TreeNode(30)\n",
    "forTraversal.right.left = TreeNode(150)\n",
    "forTraversal.right.right = TreeNode(300)"
   ]
  },
  {
   "cell_type": "markdown",
   "metadata": {},
   "source": [
    "#### In Order = Left, Root, Right"
   ]
  },
  {
   "cell_type": "code",
   "execution_count": 64,
   "metadata": {},
   "outputs": [
    {
     "name": "stdout",
     "output_type": "stream",
     "text": [
      "10 20 30 100 150 200 300 "
     ]
    }
   ],
   "source": [
    "def printInOrder(root):\n",
    "    if root is None:\n",
    "        return None\n",
    "    else:\n",
    "        printInOrder(root.left)\n",
    "        print(root.val,end=\" \")\n",
    "        printInOrder(root.right)\n",
    "\n",
    "printInOrder(forTraversal)"
   ]
  },
  {
   "cell_type": "markdown",
   "metadata": {},
   "source": [
    "#### Pre Order = Root, Left, Right"
   ]
  },
  {
   "cell_type": "code",
   "execution_count": 65,
   "metadata": {},
   "outputs": [
    {
     "name": "stdout",
     "output_type": "stream",
     "text": [
      "100 20 10 30 200 150 300 "
     ]
    }
   ],
   "source": [
    "def printPreOrder(root):\n",
    "    if root is None:\n",
    "        return None\n",
    "    print(root.val, end=' ')\n",
    "    printPreOrder(root.left)\n",
    "    printPreOrder(root.right)\n",
    "\n",
    "printPreOrder(forTraversal)"
   ]
  },
  {
   "cell_type": "markdown",
   "metadata": {},
   "source": [
    "#### Post Order = Left, Right, Root"
   ]
  },
  {
   "cell_type": "code",
   "execution_count": 66,
   "metadata": {},
   "outputs": [
    {
     "name": "stdout",
     "output_type": "stream",
     "text": [
      "10 30 20 150 300 200 100 "
     ]
    }
   ],
   "source": [
    "def printPostOrder(root):\n",
    "    if root is None:\n",
    "        return None\n",
    "    else:\n",
    "        printPostOrder(root.left)\n",
    "        printPostOrder(root.right)\n",
    "        print(root.val,end=\" \")\n",
    "printPostOrder(forTraversal)"
   ]
  },
  {
   "cell_type": "markdown",
   "metadata": {},
   "source": [
    "#### Level Order"
   ]
  },
  {
   "cell_type": "code",
   "execution_count": 69,
   "metadata": {},
   "outputs": [
    {
     "data": {
      "text/plain": [
       "[100, 20, 200, 10, 30, 150, 300]"
      ]
     },
     "execution_count": 69,
     "metadata": {},
     "output_type": "execute_result"
    }
   ],
   "source": [
    "from collections import deque\n",
    "\n",
    "def level_order_traversal(root):\n",
    "    if root is None:\n",
    "        return []\n",
    "\n",
    "    result = []\n",
    "    queue = deque([root])\n",
    "\n",
    "    while queue:\n",
    "        current = queue.popleft()\n",
    "        result.append(current.val)\n",
    "\n",
    "        if current.left:\n",
    "            queue.append(current.left)\n",
    "        if current.right:\n",
    "            queue.append(current.right)\n",
    "\n",
    "    return result\n",
    "\n",
    "level_order_traversal(forTraversal)"
   ]
  },
  {
   "cell_type": "markdown",
   "metadata": {},
   "source": [
    "#### Sipral Level Order"
   ]
  },
  {
   "cell_type": "code",
   "execution_count": 73,
   "metadata": {},
   "outputs": [
    {
     "data": {
      "text/plain": [
       "[[100], [200, 20], [10, 30, 150, 300]]"
      ]
     },
     "execution_count": 73,
     "metadata": {},
     "output_type": "execute_result"
    }
   ],
   "source": [
    "def spiral_level_order_traversal(root):\n",
    "    if not root:\n",
    "        return []\n",
    "    \n",
    "    result = []\n",
    "    deque = [root]\n",
    "    left_to_right = True\n",
    "    \n",
    "    while deque:\n",
    "        level_size = len(deque)\n",
    "        level = []\n",
    "        \n",
    "        for _ in range(level_size):\n",
    "            if left_to_right:\n",
    "                node = deque.pop(0)\n",
    "                level.append(node.val)\n",
    "                if node.left:\n",
    "                    deque.append(node.left)\n",
    "                if node.right:\n",
    "                    deque.append(node.right)\n",
    "            else:\n",
    "                node = deque.pop()\n",
    "                level.append(node.val)\n",
    "                if node.right:\n",
    "                    deque.insert(0, node.right)\n",
    "                if node.left:\n",
    "                    deque.insert(0, node.left)\n",
    "        \n",
    "        result.append(level)\n",
    "        left_to_right = not left_to_right\n",
    "    \n",
    "    return result\n",
    "\n",
    "spiral_level_order_traversal(forTraversal)"
   ]
  },
  {
   "cell_type": "code",
   "execution_count": null,
   "metadata": {},
   "outputs": [],
   "source": [
    "def iterative_preorder_traversal(root):\n",
    "    if not root:\n",
    "        return []\n",
    "    \n",
    "    result = []\n",
    "    stack = [root]\n",
    "    \n",
    "    while stack:\n",
    "        node = stack.pop()\n",
    "        result.append(node.val)\n",
    "        \n",
    "        if node.right:\n",
    "            stack.append(node.right)\n",
    "        if node.left:\n",
    "            stack.append(node.left)\n",
    "    \n",
    "    return result\n",
    "\n",
    "def iterative_inorder_traversal(root):\n",
    "    result = []\n",
    "    stack = []\n",
    "    current = root\n",
    "    \n",
    "    while current or stack:\n",
    "        while current:\n",
    "            stack.append(current)\n",
    "            current = current.left\n",
    "        \n",
    "        current = stack.pop()\n",
    "        result.append(current.val)\n",
    "        current = current.right\n",
    "    \n",
    "    return result\n",
    "\n",
    "def postorder_traversal_two_stacks(root):\n",
    "    if not root:\n",
    "        return []\n",
    "    \n",
    "    result = []\n",
    "    stack1 = [root]\n",
    "    stack2 = []\n",
    "    \n",
    "    while stack1:\n",
    "        node = stack1.pop()\n",
    "        stack2.append(node)\n",
    "        \n",
    "        if node.left:\n",
    "            stack1.append(node.left)\n",
    "        if node.right:\n",
    "            stack1.append(node.right)\n",
    "    \n",
    "    while stack2:\n",
    "        result.append(stack2.pop().val)\n",
    "    \n",
    "    return result\n",
    "\n",
    "def postorder_traversal_one_stack(root):\n",
    "    result = []\n",
    "    stack = []\n",
    "    current = root\n",
    "    last_visited = None\n",
    "    \n",
    "    while current or stack:\n",
    "        if current:\n",
    "            stack.append(current)\n",
    "            current = current.left\n",
    "        else:\n",
    "            peek_node = stack[-1]\n",
    "            if peek_node.right and last_visited != peek_node.right:\n",
    "                current = peek_node.right\n",
    "            else:\n",
    "                result.append(peek_node.val)\n",
    "                last_visited = stack.pop()\n",
    "    \n",
    "    return result\n",
    "\n",
    "def all_traversals_in_one(root):\n",
    "    if not root:\n",
    "        return [], [], []\n",
    "    \n",
    "    preorder, inorder, postorder = [], [], []\n",
    "    stack = [(root, 1)]\n",
    "    \n",
    "    while stack:\n",
    "        node, state = stack.pop()\n",
    "        \n",
    "        if state == 1:  # Pre\n",
    "            preorder.append(node.val)\n",
    "            stack.append((node, 2))\n",
    "            if node.left:\n",
    "                stack.append((node.left, 1))\n",
    "        elif state == 2:  # In\n",
    "            inorder.append(node.val)\n",
    "            stack.append((node, 3))\n",
    "            if node.right:\n",
    "                stack.append((node.right, 1))\n",
    "        else:  # Post\n",
    "            postorder.append(node.val)\n",
    "    \n",
    "    return preorder, inorder, postorder"
   ]
  },
  {
   "cell_type": "markdown",
   "metadata": {},
   "source": [
    "## Serialize Deserialize"
   ]
  },
  {
   "cell_type": "code",
   "execution_count": 2,
   "metadata": {},
   "outputs": [],
   "source": [
    "forScience = TreeNode(1)\n",
    "forScience.left = TreeNode(2)\n",
    "# forScience.left.left = TreeNode(None)\n",
    "# forScience.left.right = TreeNode(None)\n",
    "forScience.right = TreeNode(3)\n",
    "forScience.right.left = TreeNode(4)\n",
    "# forScience.right.left.left = TreeNode(None)\n",
    "# forScience.right.left.right = TreeNode(None)\n",
    "forScience.right.right = TreeNode(5)\n",
    "# forScience.right.right.left = TreeNode(None)\n",
    "# forScience.right.right.right = TreeNode(None)"
   ]
  },
  {
   "cell_type": "code",
   "execution_count": 3,
   "metadata": {},
   "outputs": [],
   "source": [
    "# Definition for a binary tree node.\n",
    "# class TreeNode(object):\n",
    "#     def __init__(self, x):\n",
    "#         self.val = x\n",
    "#         self.left = None\n",
    "#         self.right = None\n",
    "\n",
    "\n",
    "def serialize(root):\n",
    "    res = []\n",
    "    def dfs(node):\n",
    "        if not node:\n",
    "            res.append(\"N\")\n",
    "            return\n",
    "        res.append(str(node.val))\n",
    "        dfs(node.left)\n",
    "        dfs(node.right)\n",
    "    dfs(root)\n",
    "    return \",\".join(res)\n",
    "\n",
    "def deserialize(data):\n",
    "    vals = data.split(\",\")\n",
    "    i = 0\n",
    "    def dfs():\n",
    "        nonlocal i\n",
    "        if vals[i] == \"N\":\n",
    "            i += 1\n",
    "            return None\n",
    "        node = TreeNode(int(vals[i]))\n",
    "        i += 1\n",
    "        node.left = dfs()\n",
    "        node.right = dfs()\n",
    "        return node\n",
    "    return dfs()"
   ]
  },
  {
   "cell_type": "code",
   "execution_count": 4,
   "metadata": {},
   "outputs": [],
   "source": [
    "arr = serialize(forScience) "
   ]
  },
  {
   "cell_type": "code",
   "execution_count": 6,
   "metadata": {},
   "outputs": [
    {
     "data": {
      "text/plain": [
       "'1,2,N,N,3,4,N,N,5,N,N'"
      ]
     },
     "execution_count": 6,
     "metadata": {},
     "output_type": "execute_result"
    }
   ],
   "source": [
    "arr"
   ]
  },
  {
   "cell_type": "code",
   "execution_count": 7,
   "metadata": {},
   "outputs": [],
   "source": [
    "hogaya = deserialize(arr)"
   ]
  },
  {
   "cell_type": "code",
   "execution_count": 15,
   "metadata": {},
   "outputs": [
    {
     "name": "stdout",
     "output_type": "stream",
     "text": [
      "1\n",
      "2\n",
      "3\n",
      "4\n",
      "5\n"
     ]
    }
   ],
   "source": [
    "print(hogaya.val)\n",
    "print(hogaya.left.val)\n",
    "# print(hogaya.left.left).val \n",
    "# print(hogaya.left.right.val)\n",
    "print(hogaya.right.val)\n",
    "print(hogaya.right.left.val)\n",
    "# print(hogaya.right.left.left).val \n",
    "# print(hogaya.right.left.right.val)\n",
    "print(hogaya.right.right.val) \n",
    "# print(hogaya.right.right.left.val)\n",
    "# print(hogaya.right.right.right.val)"
   ]
  },
  {
   "cell_type": "markdown",
   "metadata": {},
   "source": []
  }
 ],
 "metadata": {
  "kernelspec": {
   "display_name": "myenv",
   "language": "python",
   "name": "python3"
  },
  "language_info": {
   "codemirror_mode": {
    "name": "ipython",
    "version": 3
   },
   "file_extension": ".py",
   "mimetype": "text/x-python",
   "name": "python",
   "nbconvert_exporter": "python",
   "pygments_lexer": "ipython3",
   "version": "3.12.4"
  }
 },
 "nbformat": 4,
 "nbformat_minor": 2
}
